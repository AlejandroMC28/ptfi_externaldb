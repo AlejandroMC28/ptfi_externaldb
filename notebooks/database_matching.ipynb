{
 "cells": [
  {
   "cell_type": "code",
   "execution_count": 2,
   "id": "87ba6e18",
   "metadata": {},
   "outputs": [],
   "source": [
    "import pandas as pd"
   ]
  },
  {
   "cell_type": "markdown",
   "id": "3da44ea3",
   "metadata": {},
   "source": [
    "## Separate known and unknown molecules of PTFI"
   ]
  },
  {
   "cell_type": "markdown",
   "id": "3a292efb",
   "metadata": {},
   "source": [
    "Load PTFI dictionary. Metadata of the 24000 molecules in the project"
   ]
  },
  {
   "cell_type": "code",
   "execution_count": null,
   "id": "1c7801c9",
   "metadata": {},
   "outputs": [],
   "source": [
    "ptfi_dic = pd.read_csv(\"../databases/ptfi_dic.csv\")"
   ]
  },
  {
   "cell_type": "code",
   "execution_count": 6,
   "id": "edab8804",
   "metadata": {},
   "outputs": [],
   "source": [
    "ptfi_unknown = ptfi_dic[ptfi_dic[\"definition\"].str.contains(\"unknown\")].copy()\n",
    "ptfi_known = ptfi_dic[~ptfi_dic[\"definition\"].str.contains(\"unknown\")].copy()"
   ]
  }
 ],
 "metadata": {
  "kernelspec": {
   "display_name": ".venv",
   "language": "python",
   "name": "python3"
  },
  "language_info": {
   "codemirror_mode": {
    "name": "ipython",
    "version": 3
   },
   "file_extension": ".py",
   "mimetype": "text/x-python",
   "name": "python",
   "nbconvert_exporter": "python",
   "pygments_lexer": "ipython3",
   "version": "3.12.3"
  }
 },
 "nbformat": 4,
 "nbformat_minor": 5
}
